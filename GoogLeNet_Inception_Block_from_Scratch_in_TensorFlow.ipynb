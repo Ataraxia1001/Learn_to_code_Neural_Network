{
  "cells": [
    {
      "cell_type": "code",
      "execution_count": null,
      "metadata": {
        "colab": {
          "base_uri": "https://localhost:8080/"
        },
        "id": "sdQnHbQ4f_gN",
        "outputId": "e0317d0c-e2e8-4351-a706-dddb2cf17b85"
      },
      "outputs": [
        {
          "name": "stdout",
          "output_type": "stream",
          "text": [
            "Model: \"model_2\"\n",
            "__________________________________________________________________________________________________\n",
            " Layer (type)                   Output Shape         Param #     Connected to                     \n",
            "==================================================================================================\n",
            " input_3 (InputLayer)           [(None, 224, 224, 3  0           []                               \n",
            "                                )]                                                                \n",
            "                                                                                                  \n",
            " conv2d_19 (Conv2D)             (None, 224, 224, 64  256         ['input_3[0][0]']                \n",
            "                                )                                                                 \n",
            "                                                                                                  \n",
            " conv2d_21 (Conv2D)             (None, 224, 224, 32  128         ['input_3[0][0]']                \n",
            "                                )                                                                 \n",
            "                                                                                                  \n",
            " max_pooling2d_3 (MaxPooling2D)  (None, 224, 224, 3)  0          ['input_3[0][0]']                \n",
            "                                                                                                  \n",
            " conv2d_18 (Conv2D)             (None, 224, 224, 64  256         ['input_3[0][0]']                \n",
            "                                )                                                                 \n",
            "                                                                                                  \n",
            " conv2d_20 (Conv2D)             (None, 224, 224, 12  73856       ['conv2d_19[0][0]']              \n",
            "                                8)                                                                \n",
            "                                                                                                  \n",
            " conv2d_22 (Conv2D)             (None, 224, 224, 32  25632       ['conv2d_21[0][0]']              \n",
            "                                )                                                                 \n",
            "                                                                                                  \n",
            " conv2d_23 (Conv2D)             (None, 224, 224, 32  128         ['max_pooling2d_3[0][0]']        \n",
            "                                )                                                                 \n",
            "                                                                                                  \n",
            " concatenate_3 (Concatenate)    (None, 224, 224, 25  0           ['conv2d_18[0][0]',              \n",
            "                                6)                                'conv2d_20[0][0]',              \n",
            "                                                                  'conv2d_22[0][0]',              \n",
            "                                                                  'conv2d_23[0][0]']              \n",
            "                                                                                                  \n",
            " conv2d_25 (Conv2D)             (None, 224, 224, 32  8224        ['concatenate_3[0][0]']          \n",
            "                                )                                                                 \n",
            "                                                                                                  \n",
            " conv2d_27 (Conv2D)             (None, 224, 224, 16  4112        ['concatenate_3[0][0]']          \n",
            "                                )                                                                 \n",
            "                                                                                                  \n",
            " max_pooling2d_4 (MaxPooling2D)  (None, 224, 224, 25  0          ['concatenate_3[0][0]']          \n",
            "                                6)                                                                \n",
            "                                                                                                  \n",
            " conv2d_24 (Conv2D)             (None, 224, 224, 32  8224        ['concatenate_3[0][0]']          \n",
            "                                )                                                                 \n",
            "                                                                                                  \n",
            " conv2d_26 (Conv2D)             (None, 224, 224, 64  18496       ['conv2d_25[0][0]']              \n",
            "                                )                                                                 \n",
            "                                                                                                  \n",
            " conv2d_28 (Conv2D)             (None, 224, 224, 16  6416        ['conv2d_27[0][0]']              \n",
            "                                )                                                                 \n",
            "                                                                                                  \n",
            " conv2d_29 (Conv2D)             (None, 224, 224, 16  4112        ['max_pooling2d_4[0][0]']        \n",
            "                                )                                                                 \n",
            "                                                                                                  \n",
            " concatenate_4 (Concatenate)    (None, 224, 224, 12  0           ['conv2d_24[0][0]',              \n",
            "                                8)                                'conv2d_26[0][0]',              \n",
            "                                                                  'conv2d_28[0][0]',              \n",
            "                                                                  'conv2d_29[0][0]']              \n",
            "                                                                                                  \n",
            " global_average_pooling2d_2 (Gl  (None, 128)         0           ['concatenate_4[0][0]']          \n",
            " obalAveragePooling2D)                                                                            \n",
            "                                                                                                  \n",
            " dense_2 (Dense)                (None, 1)            129         ['global_average_pooling2d_2[0][0\n",
            "                                                                 ]']                              \n",
            "                                                                                                  \n",
            "==================================================================================================\n",
            "Total params: 149,969\n",
            "Trainable params: 149,969\n",
            "Non-trainable params: 0\n",
            "__________________________________________________________________________________________________\n"
          ]
        }
      ],
      "source": [
        "from tensorflow.keras.layers import *\n",
        "from tensorflow.keras.models import Model\n",
        "\n",
        "def inception_module(x, base_channels=32):\n",
        "  a = Conv2D(base_channels*2, 1, 1, activation='relu')(x)\n",
        "\n",
        "  b_1 = Conv2D(base_channels*2, 1, 1, activation='relu')(x)\n",
        "  b_2 = Conv2D(base_channels*4, 3, 1, padding='same', activation='relu')(b_1)\n",
        "\n",
        "  c_1 = Conv2D(base_channels, 1, 1, activation='relu')(x)\n",
        "  c_2 = Conv2D(base_channels, 5, 1, padding='same', activation='relu')(c_1)\n",
        "\n",
        "  d_1 = MaxPooling2D(3, 1, padding='same')(x)\n",
        "  d_2 = Conv2D(base_channels, 1, 1, activation='relu')(d_1)\n",
        "\n",
        "  return Concatenate(axis=-1)([a, b_2, c_2, d_2])\n",
        "\n",
        "inp = Input((224, 224, 3))\n",
        "\n",
        "maps_1 = inception_module(inp)\n",
        "maps_2 = inception_module(maps_1, base_channels=16) # second inception moudule\n",
        "\n",
        "gap = GlobalAveragePooling2D()(maps_2)\n",
        "\n",
        "output = Dense(1, activation='sigmoid')(gap)\n",
        "\n",
        "model = Model(inputs=inp, outputs=output)\n",
        "\n",
        "model.summary()"
      ]
    },
    {
      "cell_type": "code",
      "execution_count": null,
      "metadata": {
        "id": "Epg6K0Y9jx8N"
      },
      "outputs": [],
      "source": []
    }
  ],
  "metadata": {
    "colab": {
      "provenance": []
    },
    "kernelspec": {
      "display_name": "Python 3",
      "name": "python3"
    },
    "language_info": {
      "name": "python"
    }
  },
  "nbformat": 4,
  "nbformat_minor": 0
}
