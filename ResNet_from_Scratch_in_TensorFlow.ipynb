{
  "cells": [
    {
      "cell_type": "code",
      "execution_count": null,
      "metadata": {
        "colab": {
          "base_uri": "https://localhost:8080/"
        },
        "id": "Gy5SCqK1mu_S",
        "outputId": "b7c20f20-6155-4975-d326-523a78093f52"
      },
      "outputs": [
        {
          "name": "stdout",
          "output_type": "stream",
          "text": [
            "<__main__.ResNetBlock object at 0x7faefde90290>\n"
          ]
        }
      ],
      "source": [
        "from tensorflow.keras.models import Model, Sequential\n",
        "from tensorflow.keras.layers import *\n",
        "\n",
        "#https://www.tensorflow.org/api_docs/python/tf/keras/layers/Layer\n",
        "# ResNetBlock class inherits Layer class from tensorflow!\n",
        "class ResNetBlock(Layer):\n",
        "\n",
        "  def __init__(self, out_channels, first_stride=1):\n",
        "    super().__init__()\n",
        "\n",
        "    first_padding = 'same'\n",
        "    if first_stride != 1:\n",
        "      first_padding = 'valid'\n",
        "\n",
        "    self.conv_sequence = Sequential([\n",
        "        Conv2D(out_channels, 3, first_stride, padding=first_padding),\n",
        "        BatchNormalization(),\n",
        "        ReLU(),\n",
        "\n",
        "        Conv2D(out_channels, 3, 1, padding='same'),\n",
        "        BatchNormalization(),\n",
        "        ReLU()\n",
        "    ])\n",
        "\n",
        "  def call(self, inputs):\n",
        "    x = self.conv_sequence(inputs)\n",
        "\n",
        "    if x.shape == inputs.shape:\n",
        "      x = x + inputs # Skip connection\n",
        "\n",
        "    return x\n",
        "\n",
        "layer = ResNetBlock(4) # out_channels = 4\n",
        "print(layer)"
      ]
    },
    {
      "cell_type": "code",
      "execution_count": null,
      "metadata": {
        "colab": {
          "base_uri": "https://localhost:8080/"
        },
        "id": "BXkeQsPgtAj7",
        "outputId": "ebaa1a50-6a10-42b1-9777-6486c160d495"
      },
      "outputs": [
        {
          "name": "stdout",
          "output_type": "stream",
          "text": [
            "<__main__.ResNet object at 0x7faefd588350>\n"
          ]
        }
      ],
      "source": [
        "#If you remove ResNet and self from the super() call and use super().__init__(), it will still invoke the __init__() method of the immediate parent class. \n",
        "#However, it will use the current class (ResNet) and the instance (self) automatically, based on the context.\n",
        "#In most cases, omitting the arguments in super() and using super().__init__() will work correctly, \n",
        "#as Python will automatically determine the appropriate class and instance to use. \n",
        "#This is known as \"zero-argument super().\" It simplifies the code and is often used when there is only a single level of inheritance.\n",
        "#However, if there are multiple levels of inheritance or you need to be explicit about the parent class and instance, specifying them in the super() call becomes necessary.\n",
        "class ResNet(Model):\n",
        "  def __init__(self):\n",
        "    super(ResNet, self).__init__()  # read the comment above. (why ResNet and self are in super()?)\n",
        "\n",
        "    self.conv_1 = Sequential([Conv2D(64, 7, 2),\n",
        "                              ReLU(),\n",
        "                              MaxPooling2D(3, 2)\n",
        "    ])\n",
        "\n",
        "    self.resnet_chains = Sequential([ResNetBlock(64), ResNetBlock(64)] +\n",
        "                                    [ResNetBlock(128, 2), ResNetBlock(128)] +\n",
        "                                    [ResNetBlock(256, 2), ResNetBlock(256)] +\n",
        "                                    [ResNetBlock(512, 2), ResNetBlock(512)])  \n",
        "                                    # '+' operator is used to concatenate these lists together. By using the + operator, the individual lists are merged into a single list, \n",
        "                                    # if stride > 1, no skip connection, ex) ResNetBlock(256, 2)\n",
        "    self.out = Sequential([GlobalAveragePooling2D(),\n",
        "                           Dense(1, activation='sigmoid')])\n",
        "\n",
        "  def call(self, x):\n",
        "    x = self.conv_1(x)\n",
        "    x = self.resnet_chains(x)\n",
        "    x = self.out(x)\n",
        "    return x\n",
        "\n",
        "model = ResNet()\n",
        "print(model)"
      ]
    },
    {
      "cell_type": "code",
      "execution_count": null,
      "metadata": {
        "id": "M_9siLsbvB1U"
      },
      "outputs": [],
      "source": [
        "model.build(input_shape=(1, 224, 224, 3))"
      ]
    },
    {
      "cell_type": "code",
      "execution_count": null,
      "metadata": {
        "colab": {
          "base_uri": "https://localhost:8080/"
        },
        "id": "D0-yAyCMvIOI",
        "outputId": "dba2c19d-66b5-4e74-e58f-39d37b2e307a"
      },
      "outputs": [
        {
          "name": "stdout",
          "output_type": "stream",
          "text": [
            "Model: \"res_net\"\n",
            "_________________________________________________________________\n",
            " Layer (type)                Output Shape              Param #   \n",
            "=================================================================\n",
            " sequential_1 (Sequential)   multiple                  9472      \n",
            "                                                                 \n",
            " sequential_10 (Sequential)  (1, 5, 5, 512)            11004672  \n",
            "                                                                 \n",
            " sequential_11 (Sequential)  (1, 1)                    513       \n",
            "                                                                 \n",
            "=================================================================\n",
            "Total params: 11,014,657\n",
            "Trainable params: 11,006,977\n",
            "Non-trainable params: 7,680\n",
            "_________________________________________________________________\n"
          ]
        }
      ],
      "source": [
        "model.summary()"
      ]
    },
    {
      "cell_type": "code",
      "execution_count": null,
      "metadata": {
        "id": "l0UiG28IvQpL"
      },
      "outputs": [],
      "source": []
    }
  ],
  "metadata": {
    "colab": {
      "provenance": []
    },
    "kernelspec": {
      "display_name": "Python 3",
      "name": "python3"
    },
    "language_info": {
      "name": "python"
    }
  },
  "nbformat": 4,
  "nbformat_minor": 0
}
